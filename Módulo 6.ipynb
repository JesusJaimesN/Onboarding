{
 "cells": [
  {
   "cell_type": "markdown",
   "metadata": {},
   "source": [
    "# Ejemplo 1"
   ]
  },
  {
   "cell_type": "code",
   "execution_count": 2,
   "metadata": {},
   "outputs": [
    {
     "name": "stdout",
     "output_type": "stream",
     "text": [
      "The first planet is Mercury\n",
      "The second planet is Venus\n",
      "The third planet is  Earth\n"
     ]
    }
   ],
   "source": [
    "planets = ['Mercury', 'Venus', 'Earth', 'Mars', 'Jupiter', 'Saturn', 'Uranus', 'Neptune', 'Pluto']\n",
    "print('The first planet is', planets[0])\n",
    "print('The second planet is', planets[1])\n",
    "print('The third planet is ', planets[2])"
   ]
  },
  {
   "cell_type": "code",
   "execution_count": 3,
   "metadata": {},
   "outputs": [
    {
     "name": "stdout",
     "output_type": "stream",
     "text": [
      "The earh is also known as The blue planet\n"
     ]
    }
   ],
   "source": [
    "planets[2] = 'The blue planet'\n",
    "print(\"The earh is also known as\", planets[2])"
   ]
  },
  {
   "cell_type": "code",
   "execution_count": 4,
   "metadata": {},
   "outputs": [
    {
     "name": "stdout",
     "output_type": "stream",
     "text": [
      "there are 10 In the solar system.\n",
      "No, there are definitely 9 Planets in the solar system\n"
     ]
    }
   ],
   "source": [
    "planets.append('Axyoma')\n",
    "number_of_planets = len(planets)\n",
    "print('there are', number_of_planets, 'In the solar system.')\n",
    "\n",
    "planets.pop()\n",
    "number_of_planets2 = len(planets)\n",
    "print('No, there are definitely', number_of_planets2, 'Planets in the solar system')"
   ]
  },
  {
   "cell_type": "code",
   "execution_count": 5,
   "metadata": {},
   "outputs": [
    {
     "name": "stdout",
     "output_type": "stream",
     "text": [
      "The last planet of the solar system is Pluto\n",
      "The penultimate planet of the solar system is Neptune\n"
     ]
    }
   ],
   "source": [
    "print('The last planet of the solar system is', planets[-1])\n",
    "print('The penultimate planet of the solar system is', planets[-2])"
   ]
  },
  {
   "cell_type": "code",
   "execution_count": 6,
   "metadata": {},
   "outputs": [
    {
     "name": "stdout",
     "output_type": "stream",
     "text": [
      "Jupiter is the 5 Planet from the sun\n"
     ]
    }
   ],
   "source": [
    "jupiter_index = planets.index('Jupiter')\n",
    "print('Jupiter is the', jupiter_index + 1, 'Planet from the sun')"
   ]
  },
  {
   "cell_type": "code",
   "execution_count": 7,
   "metadata": {},
   "outputs": [
    {
     "name": "stdout",
     "output_type": "stream",
     "text": [
      "On earth, a double-decker bus weighs 12650 kilograms\n",
      "On mercury a double-decker bus weighs 4781.7 kilograms\n"
     ]
    }
   ],
   "source": [
    "gravity_on_earth = 1.0\n",
    "gravity_on_the_moon = 0.166\n",
    "\n",
    "gravity_on_planets= [0.378, 0.907, 1, 0.379, 2.36, 0.916, 0.889, 1.12]\n",
    "\n",
    "bus_weight = 12650\n",
    "\n",
    "print('On earth, a double-decker bus weighs', bus_weight, 'kilograms')\n",
    "print('On mercury a double-decker bus weighs', bus_weight*gravity_on_planets[0], 'kilograms')"
   ]
  },
  {
   "cell_type": "code",
   "execution_count": 8,
   "metadata": {},
   "outputs": [
    {
     "name": "stdout",
     "output_type": "stream",
     "text": [
      "On earth, a double-decker bus weighs 12650 kilograms\n",
      "The lightest a bus would be in the solar system is 4781.7 Kilograms\n",
      "The heaviets a bus would be in the solar system is 29854.0 Kilograms\n"
     ]
    }
   ],
   "source": [
    "print('On earth, a double-decker bus weighs', bus_weight, 'kilograms')\n",
    "print('The lightest a bus would be in the solar system is', bus_weight *  min(gravity_on_planets), 'Kilograms')\n",
    "print('The heaviets a bus would be in the solar system is', bus_weight *  max(gravity_on_planets), 'Kilograms')"
   ]
  },
  {
   "cell_type": "code",
   "execution_count": 9,
   "metadata": {},
   "outputs": [
    {
     "name": "stdout",
     "output_type": "stream",
     "text": [
      "['Mercury', 'Venus']\n",
      "['Mars', 'Jupiter', 'Saturn', 'Uranus', 'Neptune', 'Pluto']\n"
     ]
    }
   ],
   "source": [
    "planets_before_earth = planets[0:2]\n",
    "print(planets_before_earth)\n",
    "\n",
    "planets_after_earth = planets[3:]\n",
    "print(planets_after_earth)"
   ]
  },
  {
   "cell_type": "code",
   "execution_count": 10,
   "metadata": {},
   "outputs": [
    {
     "name": "stdout",
     "output_type": "stream",
     "text": [
      "The regular satellite moons of Jupiter are ['Metis', 'Adrastea', 'Amalthea', 'Thebe', 'Io', 'Europa', 'Ganymede', 'Callisto']\n"
     ]
    }
   ],
   "source": [
    "amalthea_group = ['Metis', 'Adrastea', 'Amalthea', 'Thebe']\n",
    "galilean_moons = ['Io', 'Europa', 'Ganymede', 'Callisto']\n",
    "regular_ssatellite_moons = amalthea_group + galilean_moons\n",
    "print('The regular satellite moons of Jupiter are', regular_ssatellite_moons)"
   ]
  },
  {
   "cell_type": "code",
   "execution_count": 11,
   "metadata": {},
   "outputs": [
    {
     "name": "stdout",
     "output_type": "stream",
     "text": [
      "The regular satellite moons of Jupiter are ['Adrastea', 'Amalthea', 'Callisto', 'Europa', 'Ganymede', 'Io', 'Metis', 'Thebe']\n"
     ]
    }
   ],
   "source": [
    "regular_ssatellite_moons.sort()\n",
    "print('The regular satellite moons of Jupiter are', regular_ssatellite_moons)"
   ]
  },
  {
   "cell_type": "markdown",
   "metadata": {},
   "source": [
    "# Ejercicio 1"
   ]
  },
  {
   "cell_type": "code",
   "execution_count": 12,
   "metadata": {},
   "outputs": [
    {
     "name": "stdout",
     "output_type": "stream",
     "text": [
      "El número de planetas que hay son: 8\n"
     ]
    }
   ],
   "source": [
    "planetas = ['Mercurio', 'Venus', 'Tierra', 'Marte', 'Júpiter', 'Saturno', 'Urano', 'Neptuno']\n",
    "Número_de_planetas = len(planetas)\n",
    "print('El número de planetas que hay son:', Número_de_planetas)"
   ]
  },
  {
   "cell_type": "code",
   "execution_count": 14,
   "metadata": {},
   "outputs": [
    {
     "name": "stdout",
     "output_type": "stream",
     "text": [
      "Número de planetas: 8 \n",
      "El último planeta es: Plutón\n"
     ]
    }
   ],
   "source": [
    "planetas.append('Plutón')\n",
    "print('Número de planetas:', Número_de_planetas, '\\nEl último planeta es:', planetas[-1])"
   ]
  },
  {
   "cell_type": "markdown",
   "metadata": {},
   "source": [
    "# Ejercicio 2"
   ]
  },
  {
   "cell_type": "code",
   "execution_count": 26,
   "metadata": {},
   "outputs": [
    {
     "name": "stdout",
     "output_type": "stream",
     "text": [
      "Los planetas más cercanos al sol que: Tierra\n",
      "['Mercurio', 'Venus']\n",
      "Los planetas más lejanos al sol que: Tierra\n",
      "['Marte', 'Júpiter', 'Saturno', 'Urano', 'Neptuno']\n"
     ]
    }
   ],
   "source": [
    "planetas2 = ['Mercurio', 'Venus', 'Tierra', 'Marte', 'Júpiter', 'Saturno', 'Urano', 'Neptuno']\n",
    "planeta = input('Ingrese el nombre del planeta \"Iniciando la primera letra con mayúscula\"')\n",
    "planet_index = planetas2.index(planeta)\n",
    "print('Los planetas más cercanos al sol que:', planetas2[planet_index])\n",
    "print(planetas2[0:planet_index])\n",
    "print('Los planetas más lejanos al sol que:', planetas2[planet_index])\n",
    "print(planetas2[planet_index + 1:])\n"
   ]
  }
 ],
 "metadata": {
  "interpreter": {
   "hash": "8207762dc822bb009817e1c059d72f603ed640c408e76cc6ec1202fcee442c69"
  },
  "kernelspec": {
   "display_name": "Python 3.10.2 64-bit (windows store)",
   "language": "python",
   "name": "python3"
  },
  "language_info": {
   "codemirror_mode": {
    "name": "ipython",
    "version": 3
   },
   "file_extension": ".py",
   "mimetype": "text/x-python",
   "name": "python",
   "nbconvert_exporter": "python",
   "pygments_lexer": "ipython3",
   "version": "3.10.2"
  },
  "orig_nbformat": 4
 },
 "nbformat": 4,
 "nbformat_minor": 2
}
