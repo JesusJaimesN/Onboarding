{
 "cells": [
  {
   "cell_type": "markdown",
   "metadata": {},
   "source": [
    "## Primera comprobación\n"
   ]
  },
  {
   "cell_type": "markdown",
   "metadata": {},
   "source": [
    "# Menor que"
   ]
  },
  {
   "cell_type": "code",
   "execution_count": 5,
   "metadata": {},
   "outputs": [
    {
     "name": "stdout",
     "output_type": "stream",
     "text": [
      "34\n"
     ]
    }
   ],
   "source": [
    "a=23\n",
    "b=34\n",
    "if a < b:\n",
    "    print(b)\n"
   ]
  },
  {
   "cell_type": "markdown",
   "metadata": {},
   "source": [
    "# Mayor o igual que"
   ]
  },
  {
   "cell_type": "code",
   "execution_count": 6,
   "metadata": {},
   "outputs": [
    {
     "name": "stdout",
     "output_type": "stream",
     "text": [
      "27\n"
     ]
    }
   ],
   "source": [
    "c=27\n",
    "d=27\n",
    "if c >= d:\n",
    "    print(c)"
   ]
  },
  {
   "cell_type": "markdown",
   "metadata": {},
   "source": [
    "# Menor o igual que"
   ]
  },
  {
   "cell_type": "code",
   "execution_count": 7,
   "metadata": {},
   "outputs": [
    {
     "name": "stdout",
     "output_type": "stream",
     "text": [
      "44\n"
     ]
    }
   ],
   "source": [
    "e=24\n",
    "f=44\n",
    "if e <= 0:\n",
    "    print(e)\n",
    "print(f)"
   ]
  },
  {
   "cell_type": "markdown",
   "metadata": {},
   "source": [
    "# Else y elif"
   ]
  },
  {
   "cell_type": "code",
   "execution_count": 8,
   "metadata": {},
   "outputs": [
    {
     "name": "stdout",
     "output_type": "stream",
     "text": [
      "34\n"
     ]
    }
   ],
   "source": [
    "if a>=b:\n",
    "    print(a)\n",
    "else:\n",
    "    print(b)"
   ]
  },
  {
   "cell_type": "code",
   "execution_count": 9,
   "metadata": {},
   "outputs": [],
   "source": [
    "if a>=b:\n",
    "    print(\"a es mayor o igual que b\")\n",
    "elif a==b:\n",
    "    print(\"a es igual que b\")"
   ]
  },
  {
   "cell_type": "markdown",
   "metadata": {},
   "source": [
    "# Combinaciones entre declaraciones if, elif, else"
   ]
  },
  {
   "cell_type": "code",
   "execution_count": 10,
   "metadata": {},
   "outputs": [
    {
     "name": "stdout",
     "output_type": "stream",
     "text": [
      "a es menor que b\n"
     ]
    }
   ],
   "source": [
    "if a>b:\n",
    "    print(\"a es mayor que b\")\n",
    "elif a<b:\n",
    "    print(\"a es menor que b\")\n",
    "else:\n",
    "    print(\"a es igual a b\")"
   ]
  },
  {
   "cell_type": "markdown",
   "metadata": {},
   "source": [
    "# Condicionales anidadas"
   ]
  },
  {
   "cell_type": "code",
   "execution_count": 11,
   "metadata": {},
   "outputs": [
    {
     "name": "stdout",
     "output_type": "stream",
     "text": [
      "a es menor que b\n"
     ]
    }
   ],
   "source": [
    "if a>b:\n",
    "    if b>c:\n",
    "        print(\"a es mayor que b y b es mayor que c\")\n",
    "    else:\n",
    "        print(\"a es mayor que b y b es menor que c\")\n",
    "elif a==b:\n",
    "    print(\"a es igual a b\")\n",
    "else:\n",
    "    print(\"a es menor que b\")"
   ]
  },
  {
   "cell_type": "markdown",
   "metadata": {},
   "source": [
    "# Condicionales \"and\" y \"or\""
   ]
  },
  {
   "cell_type": "code",
   "execution_count": 12,
   "metadata": {},
   "outputs": [
    {
     "name": "stdout",
     "output_type": "stream",
     "text": [
      "57\n"
     ]
    }
   ],
   "source": [
    "if a==34 or b==34:\n",
    "    print(a + b)"
   ]
  },
  {
   "cell_type": "code",
   "execution_count": 13,
   "metadata": {},
   "outputs": [],
   "source": [
    "if a==34 and b==34:\n",
    "    print(a + b)\n",
    "    "
   ]
  },
  {
   "cell_type": "markdown",
   "metadata": {},
   "source": [
    "# Ejercicio 1"
   ]
  },
  {
   "cell_type": "code",
   "execution_count": 14,
   "metadata": {},
   "outputs": [
    {
     "ename": "ValueError",
     "evalue": "invalid literal for int() with base 10: ''",
     "output_type": "error",
     "traceback": [
      "\u001b[1;31m---------------------------------------------------------------------------\u001b[0m",
      "\u001b[1;31mValueError\u001b[0m                                Traceback (most recent call last)",
      "\u001b[1;32mc:\\Users\\rezzg\\Documents\\Curso Python\\Módulo 3.ipynb Cell 19'\u001b[0m in \u001b[0;36m<module>\u001b[1;34m\u001b[0m\n\u001b[0;32m      <a href='vscode-notebook-cell:/c%3A/Users/rezzg/Documents/Curso%20Python/M%C3%B3dulo%203.ipynb#ch0000018?line=0'>1</a>\u001b[0m velocidad_asteroide\u001b[39m=\u001b[39m\u001b[39minput\u001b[39m(\u001b[39m\"\u001b[39m\u001b[39mInserte la velocidad del asteroide en km/s\u001b[39m\u001b[39m\"\u001b[39m)\n\u001b[1;32m----> <a href='vscode-notebook-cell:/c%3A/Users/rezzg/Documents/Curso%20Python/M%C3%B3dulo%203.ipynb#ch0000018?line=1'>2</a>\u001b[0m \u001b[39mif\u001b[39;00m \u001b[39mint\u001b[39;49m(velocidad_asteroide) \u001b[39m>\u001b[39m \u001b[39m25\u001b[39m:\n\u001b[0;32m      <a href='vscode-notebook-cell:/c%3A/Users/rezzg/Documents/Curso%20Python/M%C3%B3dulo%203.ipynb#ch0000018?line=2'>3</a>\u001b[0m     \u001b[39mprint\u001b[39m(\u001b[39m\"\u001b[39m\u001b[39mPeligro, el asteroide va demasiado rápido. Busca refugio\u001b[39m\u001b[39m\"\u001b[39m)\n\u001b[0;32m      <a href='vscode-notebook-cell:/c%3A/Users/rezzg/Documents/Curso%20Python/M%C3%B3dulo%203.ipynb#ch0000018?line=3'>4</a>\u001b[0m \u001b[39melse\u001b[39;00m:\n",
      "\u001b[1;31mValueError\u001b[0m: invalid literal for int() with base 10: ''"
     ]
    }
   ],
   "source": [
    "velocidad_asteroide=input(\"Inserte la velocidad del asteroide en km/s\")\n",
    "if int(velocidad_asteroide) > 25:\n",
    "    print(\"Peligro, el asteroide va demasiado rápido. Busca refugio\")\n",
    "else:\n",
    "    print(\"Tranquilo, el asteroide es inofensivo\")"
   ]
  },
  {
   "cell_type": "markdown",
   "metadata": {},
   "source": [
    "# Ejercicio 2"
   ]
  },
  {
   "cell_type": "code",
   "execution_count": null,
   "metadata": {},
   "outputs": [
    {
     "name": "stdout",
     "output_type": "stream",
     "text": [
      "No se alcanzaá a distinguir el asteroide :(\n"
     ]
    }
   ],
   "source": [
    "velocidad1 = 19\n",
    "if int(velocidad1) > 20:\n",
    "    print(\"Posible rayo de luz por asteroide. búscalo en el cielo\")\n",
    "elif int(velocidad1) == 20:\n",
    "    print(\"Posible rayo de luz por asteroide. búscalo en el cielo\")\n",
    "else:\n",
    "    print(\"No se alcanzaá a distinguir el asteroide :(\")"
   ]
  },
  {
   "cell_type": "markdown",
   "metadata": {},
   "source": [
    "# Ejercicio 3"
   ]
  },
  {
   "cell_type": "code",
   "execution_count": 30,
   "metadata": {},
   "outputs": [
    {
     "name": "stdout",
     "output_type": "stream",
     "text": [
      "El asteroide no es crítico\n"
     ]
    }
   ],
   "source": [
    "velocidad2 = input(\"Inserte la velocidad del asteroide en km/s\")\n",
    "dimensiones = input(\"Inserte el tamaño del asteroide o de la pieza del asteroide\")\n",
    "if int(velocidad2) > 25 or int(dimensiones) > 24:\n",
    "    print(\"El asteroide es críticamente mortal\")\n",
    "elif int(velocidad2) == 20:\n",
    "    print(\"Sal, el cielo tendrá luces\")\n",
    "else:\n",
    "    print(\"El asteroide no es crítico\")\n",
    "     \n"
   ]
  }
 ],
 "metadata": {
  "interpreter": {
   "hash": "8207762dc822bb009817e1c059d72f603ed640c408e76cc6ec1202fcee442c69"
  },
  "kernelspec": {
   "display_name": "Python 3.10.2 64-bit (windows store)",
   "language": "python",
   "name": "python3"
  },
  "language_info": {
   "codemirror_mode": {
    "name": "ipython",
    "version": 3
   },
   "file_extension": ".py",
   "mimetype": "text/x-python",
   "name": "python",
   "nbconvert_exporter": "python",
   "pygments_lexer": "ipython3",
   "version": "3.10.2"
  },
  "orig_nbformat": 4
 },
 "nbformat": 4,
 "nbformat_minor": 2
}
