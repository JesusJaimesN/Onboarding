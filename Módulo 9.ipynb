{
 "cells": [
  {
   "cell_type": "markdown",
   "metadata": {},
   "source": [
    "# Ejemplos"
   ]
  },
  {
   "cell_type": "code",
   "execution_count": 5,
   "metadata": {},
   "outputs": [
    {
     "name": "stdout",
     "output_type": "stream",
     "text": [
      "payload, propellant, structure\n",
      "payload, propellant, structure\n"
     ]
    }
   ],
   "source": [
    "def rocket_parts():\n",
    "    print('payload, propellant, structure')\n",
    "\n",
    "rocket_parts()\n",
    "\n",
    "output = rocket_parts()\n",
    "\n",
    "output"
   ]
  },
  {
   "cell_type": "code",
   "execution_count": 9,
   "metadata": {},
   "outputs": [
    {
     "data": {
      "text/plain": [
       "'15'"
      ]
     },
     "execution_count": 9,
     "metadata": {},
     "output_type": "execute_result"
    }
   ],
   "source": [
    "any([False, False, False])\n",
    "str(15)"
   ]
  },
  {
   "cell_type": "code",
   "execution_count": 12,
   "metadata": {},
   "outputs": [
    {
     "data": {
      "text/plain": [
       "'Unable to compute to that destination'"
      ]
     },
     "execution_count": 12,
     "metadata": {},
     "output_type": "execute_result"
    }
   ],
   "source": [
    "def distance_from_earth(destination):\n",
    "    if destination == 'Moon':\n",
    "        return '238,855'\n",
    "    else:\n",
    "        return 'Unable to compute to that destination'\n",
    "\n",
    "distance_from_earth('Saturn')"
   ]
  },
  {
   "cell_type": "code",
   "execution_count": 13,
   "metadata": {},
   "outputs": [
    {
     "data": {
      "text/plain": [
       "6.556712962962963"
      ]
     },
     "execution_count": 13,
     "metadata": {},
     "output_type": "execute_result"
    }
   ],
   "source": [
    "def days_to_complete(distance, speed):\n",
    "    hours = distance/speed\n",
    "    return hours/24\n",
    "\n",
    "days_to_complete(5665, 36)"
   ]
  },
  {
   "cell_type": "code",
   "execution_count": 16,
   "metadata": {},
   "outputs": [
    {
     "data": {
      "text/plain": [
       "8"
      ]
     },
     "execution_count": 16,
     "metadata": {},
     "output_type": "execute_result"
    }
   ],
   "source": [
    "total_days = days_to_complete(5050, 25)\n",
    "\n",
    "round(days_to_complete(5050, 25))"
   ]
  },
  {
   "cell_type": "code",
   "execution_count": 21,
   "metadata": {},
   "outputs": [
    {
     "data": {
      "text/plain": [
       "'Arrival: Sunday 17:42'"
      ]
     },
     "execution_count": 21,
     "metadata": {},
     "output_type": "execute_result"
    }
   ],
   "source": [
    "from datetime import timedelta, datetime\n",
    "\n",
    "def arrival_time(hours = 51):\n",
    "    now = datetime.now()\n",
    "    arrival = now + timedelta(hours=hours)\n",
    "    return arrival.strftime('Arrival: %A %H:%M')\n",
    "    \n",
    "arrival_time()\n"
   ]
  },
  {
   "cell_type": "code",
   "execution_count": 20,
   "metadata": {},
   "outputs": [
    {
     "data": {
      "text/plain": [
       "'Arrival: Friday 14:36'"
      ]
     },
     "execution_count": 20,
     "metadata": {},
     "output_type": "execute_result"
    }
   ],
   "source": [
    "arrival_time(hours=0)"
   ]
  },
  {
   "cell_type": "code",
   "execution_count": 27,
   "metadata": {},
   "outputs": [
    {
     "name": "stdout",
     "output_type": "stream",
     "text": [
      "(25, 5)\n"
     ]
    }
   ],
   "source": [
    "def variable_length(*args):\n",
    "    print(args)\n",
    "\n",
    "variable_length()"
   ]
  },
  {
   "cell_type": "code",
   "execution_count": 29,
   "metadata": {},
   "outputs": [
    {
     "data": {
      "text/plain": [
       "'Total time to launch is 1.8833333333333333 hours'"
      ]
     },
     "execution_count": 29,
     "metadata": {},
     "output_type": "execute_result"
    }
   ],
   "source": [
    "def sequence_time(*args1):\n",
    "    total_minutes = sum(args1)\n",
    "    if total_minutes < 60:\n",
    "        return f'Total time to launch is {total_minutes} minutes'\n",
    "    else:\n",
    "        return f'Total time to launch is {total_minutes/60} hours'\n",
    "\n",
    "sequence_time(5, 3, 45, 60)"
   ]
  },
  {
   "cell_type": "code",
   "execution_count": 30,
   "metadata": {},
   "outputs": [
    {
     "name": "stdout",
     "output_type": "stream",
     "text": [
      "{'tanks': 1, 'day': 'Wednesday', 'pilots': 3}\n"
     ]
    }
   ],
   "source": [
    "def variable_l(**kwargs):\n",
    "    print(kwargs)\n",
    "\n",
    "variable_l(tanks=1, day='Wednesday', pilots=3)"
   ]
  },
  {
   "cell_type": "code",
   "execution_count": 31,
   "metadata": {},
   "outputs": [
    {
     "name": "stdout",
     "output_type": "stream",
     "text": [
      "3 astronauts assigned for this mission:\n",
      "captain: Neil Amstrong\n",
      "pilot: Bus Aldrin\n",
      "Comand_pilot: Michael Collins\n"
     ]
    }
   ],
   "source": [
    "def crew_members(**ness):\n",
    "    print(f'{len(ness)} astronauts assigned for this mission:')\n",
    "    for title, name in ness.items():\n",
    "        print(f'{title}: {name}')\n",
    "\n",
    "crew_members(captain='Neil Amstrong', pilot='Bus Aldrin', Comand_pilot='Michael Collins')"
   ]
  },
  {
   "cell_type": "markdown",
   "metadata": {},
   "source": [
    "# Ejercicio 1"
   ]
  },
  {
   "cell_type": "code",
   "execution_count": 54,
   "metadata": {},
   "outputs": [
    {
     "data": {
      "text/plain": [
       "'El promedio de los 3 tanques es: 38.333333333333336%  Tanque 1: 25%  tanque 2: 30% tanque 3: 60%'"
      ]
     },
     "execution_count": 54,
     "metadata": {},
     "output_type": "execute_result"
    }
   ],
   "source": [
    "def tanks_ranks(tnk1, tnk2, tnk3):\n",
    "    average = (tnk1+tnk2+tnk3)/3\n",
    "    return f\"\"\"El promedio de los 3 tanques es: {average}%  Tanque 1: {tnk1}%  tanque 2: {tnk2}% tanque 3: {tnk3}%\"\"\" \n",
    "\n",
    "tanks_ranks(25, 30, 60)    "
   ]
  },
  {
   "cell_type": "code",
   "execution_count": 55,
   "metadata": {},
   "outputs": [
    {
     "name": "stdout",
     "output_type": "stream",
     "text": [
      "El promedio de los 3 tanques es: 0.0%  Tanque 1: 0%  tanque 2: 0% tanque 3: 0%\n"
     ]
    }
   ],
   "source": [
    "print(tanks_ranks(0, 0, 0))"
   ]
  },
  {
   "cell_type": "code",
   "execution_count": 62,
   "metadata": {},
   "outputs": [
    {
     "data": {
      "text/plain": [
       "'El reporte del tanque es:50.0% de combustible total'"
      ]
     },
     "execution_count": 62,
     "metadata": {},
     "output_type": "execute_result"
    }
   ],
   "source": [
    "def prom(*promedio):\n",
    "    total = sum(promedio)\n",
    "    numero_datos = len(promedio)\n",
    "    return total/numero_datos\n",
    "\n",
    "def tanques(tanque1, tanque2, tanque3):\n",
    "    return f\"\"\"El reporte del tanque es:{prom(tanque1, tanque2, tanque3)}% de combustible total\"\"\"\n",
    "\n",
    "tanques(50, 50, 50)\n"
   ]
  },
  {
   "cell_type": "code",
   "execution_count": 63,
   "metadata": {},
   "outputs": [
    {
     "name": "stdout",
     "output_type": "stream",
     "text": [
      "El reporte del tanque es:38.333333333333336% de combustible total\n"
     ]
    }
   ],
   "source": [
    "print(tanques(60, 30, 25))"
   ]
  },
  {
   "cell_type": "markdown",
   "metadata": {},
   "source": [
    "# Ejercicio 2"
   ]
  },
  {
   "cell_type": "code",
   "execution_count": 67,
   "metadata": {},
   "outputs": [
    {
     "name": "stdout",
     "output_type": "stream",
     "text": [
      "Día Martes, hora: 17hrs, Total de combustible:5700 Distancia:50000km\n"
     ]
    }
   ],
   "source": [
    "def moon_report(hora_mision, día_misión, depo1, depo2, depo3, distancia):\n",
    "    total_galon = depo1 + depo2 + depo3 \n",
    "    return f\"\"\"Día {día_misión}, hora: {hora_mision}hrs, Total de combustible:{total_galon} Distancia:{distancia}km\"\"\"\n",
    "\n",
    "print(moon_report(17, \"Martes\", 3000, 2500, 200, 50000))"
   ]
  },
  {
   "cell_type": "code",
   "execution_count": 87,
   "metadata": {},
   "outputs": [
    {
     "name": "stdout",
     "output_type": "stream",
     "text": [
      "Destination to: Moon\n",
      "    ('tanque2', 200)\n",
      "    total fuel: 700\n",
      "    total time: 43\n",
      "    \n"
     ]
    }
   ],
   "source": [
    "def travel_report(destiny, *time, **fuel_reserves):\n",
    "    total_fuel = sum(fuel_reserves.values())\n",
    "    total_time = sum(time)\n",
    "    for tanks in fuel_reserves.items():\n",
    "        roll = []\n",
    "        roll.append(tanks)\n",
    "    return f\"\"\"Destination to: {destiny}\n",
    "    {roll[0]}\n",
    "    total fuel: {total_fuel}\n",
    "    total time: {total_time}\n",
    "    \"\"\"\n",
    "\n",
    "print(travel_report('Moon', 5, 2, 36, tanque1 = 500, tanque2 = 200))"
   ]
  }
 ],
 "metadata": {
  "interpreter": {
   "hash": "8207762dc822bb009817e1c059d72f603ed640c408e76cc6ec1202fcee442c69"
  },
  "kernelspec": {
   "display_name": "Python 3.10.2 64-bit (windows store)",
   "language": "python",
   "name": "python3"
  },
  "language_info": {
   "codemirror_mode": {
    "name": "ipython",
    "version": 3
   },
   "file_extension": ".py",
   "mimetype": "text/x-python",
   "name": "python",
   "nbconvert_exporter": "python",
   "pygments_lexer": "ipython3",
   "version": "3.10.2"
  },
  "orig_nbformat": 4
 },
 "nbformat": 4,
 "nbformat_minor": 2
}
